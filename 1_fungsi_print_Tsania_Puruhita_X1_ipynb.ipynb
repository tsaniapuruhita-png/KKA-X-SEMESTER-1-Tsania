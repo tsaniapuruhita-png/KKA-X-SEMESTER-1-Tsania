{
  "nbformat": 4,
  "nbformat_minor": 0,
  "metadata": {
    "colab": {
      "provenance": [],
      "authorship_tag": "ABX9TyPlndk0tr1Zd5fvwAXuLU7E",
      "include_colab_link": true
    },
    "kernelspec": {
      "name": "python3",
      "display_name": "Python 3"
    },
    "language_info": {
      "name": "python"
    }
  },
  "cells": [
    {
      "cell_type": "markdown",
      "metadata": {
        "id": "view-in-github",
        "colab_type": "text"
      },
      "source": [
        "<a href=\"https://colab.research.google.com/github/tsaniapuruhita-png/KKA-X-SEMESTER-1-Tsania/blob/main/1_fungsi_print_Tsania_Puruhita_X1_ipynb.ipynb\" target=\"_parent\"><img src=\"https://colab.research.google.com/assets/colab-badge.svg\" alt=\"Open In Colab\"/></a>"
      ]
    },
    {
      "cell_type": "code",
      "source": [],
      "metadata": {
        "id": "Kr5smIG0M2Wr"
      },
      "execution_count": null,
      "outputs": []
    },
    {
      "cell_type": "markdown",
      "source": [
        "Tsania Puruhita"
      ],
      "metadata": {
        "id": "_Hi9xi_wMw-Y"
      }
    },
    {
      "cell_type": "code",
      "source": [
        "nama_panjang = \"Tsania Puruhita\"\n",
        "print(nama_panjang)"
      ],
      "metadata": {
        "colab": {
          "base_uri": "https://localhost:8080/"
        },
        "id": "qarLO4mFAP4d",
        "outputId": "325c20c6-e14c-443f-bc00-490c866d0967"
      },
      "execution_count": null,
      "outputs": [
        {
          "output_type": "stream",
          "name": "stdout",
          "text": [
            "Tsania Puruhita\n"
          ]
        }
      ]
    },
    {
      "cell_type": "code",
      "source": [],
      "metadata": {
        "id": "-4PctdGAh0YF"
      },
      "execution_count": null,
      "outputs": []
    },
    {
      "cell_type": "code",
      "source": [
        "jumlah_saudara = 4\n",
        "print(jumlah_saudara)"
      ],
      "metadata": {
        "colab": {
          "base_uri": "https://localhost:8080/"
        },
        "id": "hhj0oGuyA6Gy",
        "outputId": "64e8324b-b6c4-452c-e094-296429fe9ae5"
      },
      "execution_count": null,
      "outputs": [
        {
          "output_type": "stream",
          "name": "stdout",
          "text": [
            "4\n"
          ]
        }
      ]
    },
    {
      "cell_type": "code",
      "execution_count": null,
      "metadata": {
        "id": "Mjdr8bjw2kF0",
        "colab": {
          "base_uri": "https://localhost:8080/"
        },
        "outputId": "db02f52a-efe3-4a4d-a3c9-922eb3ed6ad9"
      },
      "outputs": [
        {
          "output_type": "stream",
          "name": "stdout",
          "text": [
            "Jisung\n"
          ]
        }
      ],
      "source": [
        "nama_idola = \"Jisung\"\n",
        "print(nama_saudar"
      ]
    },
    {
      "cell_type": "code",
      "source": [
        "nama_saudara = \"Abi, Sandhi, Rara\"\n",
        "print(nama_saudara)"
      ],
      "metadata": {
        "colab": {
          "base_uri": "https://localhost:8080/"
        },
        "id": "Fxg6MPouCNxx",
        "outputId": "59d269c7-2d51-4285-f01e-6494230b2e9c"
      },
      "execution_count": null,
      "outputs": [
        {
          "output_type": "stream",
          "name": "stdout",
          "text": [
            "Abi, Sandhi, Rara\n"
          ]
        }
      ]
    },
    {
      "cell_type": "code",
      "source": [
        "umur = 20\n",
        "print(umur)"
      ],
      "metadata": {
        "colab": {
          "base_uri": "https://localhost:8080/"
        },
        "id": "WU1j1OAj7SSc",
        "outputId": "68037232-4702-474a-e813-e8fe1455a0f4"
      },
      "execution_count": null,
      "outputs": [
        {
          "output_type": "stream",
          "name": "stdout",
          "text": [
            "20\n"
          ]
        }
      ]
    },
    {
      "cell_type": "markdown",
      "source": [
        "Menampilkan Nilai Variabel Dan StriStringng"
      ],
      "metadata": {
        "id": "tuCDtNNI5Xxp"
      }
    },
    {
      "cell_type": "code",
      "source": [
        "print (\"nama idola saya adalah \"+nama_idola+\", usianya adalah \"+str(umur) +\" tahun\")"
      ],
      "metadata": {
        "colab": {
          "base_uri": "https://localhost:8080/"
        },
        "id": "C3YZPNFMCzKN",
        "outputId": "a74b24c5-2f8b-4f3f-d169-02a13e6e0d11"
      },
      "execution_count": null,
      "outputs": [
        {
          "output_type": "stream",
          "name": "stdout",
          "text": [
            "nama idola saya adalah Jisung, usianya adalah 20 tahun\n"
          ]
        }
      ]
    },
    {
      "cell_type": "code",
      "source": [
        "print (f\"Nama idola saya adalah {nama_idola}. Usianya Adalah {umur} tahun.\")"
      ],
      "metadata": {
        "colab": {
          "base_uri": "https://localhost:8080/"
        },
        "id": "r5qjSlBPDbg2",
        "outputId": "55021a6b-f135-4ff4-8837-a61e4ad81a82"
      },
      "execution_count": null,
      "outputs": [
        {
          "output_type": "stream",
          "name": "stdout",
          "text": [
            "Nama idola saya adalah Jisung. Usianya Adalah 20 tahun.\n"
          ]
        }
      ]
    },
    {
      "cell_type": "code",
      "source": [
        "print(\"Nama idola saya adalah\",nama_idola,\". Usianya adalah\",umur,\"tahun.\")"
      ],
      "metadata": {
        "colab": {
          "base_uri": "https://localhost:8080/"
        },
        "id": "nu0oGTlG5nJm",
        "outputId": "ba8c88b6-05dd-4c34-b8d5-e7aa3886bff1"
      },
      "execution_count": null,
      "outputs": [
        {
          "output_type": "stream",
          "name": "stdout",
          "text": [
            "Nama idola saya adalah Jisung . Usianya adalah 20 tahun.\n"
          ]
        }
      ]
    },
    {
      "cell_type": "markdown",
      "source": [
        "Escape String"
      ],
      "metadata": {
        "id": "AZ9EIYpb9tI_"
      }
    },
    {
      "cell_type": "code",
      "source": [
        "print(\"Nama: Tsania P\")\n",
        "print(\"Kelas: X.1\")\n",
        "print(\"No.Absen: 36\")"
      ],
      "metadata": {
        "colab": {
          "base_uri": "https://localhost:8080/"
        },
        "id": "Hr6vZCwt-Wlr",
        "outputId": "3b83abed-6e8a-4537-cdd1-12ced379ed8d"
      },
      "execution_count": null,
      "outputs": [
        {
          "output_type": "stream",
          "name": "stdout",
          "text": [
            "Nama: Tsania P\n",
            "Kelas: X.1\n",
            "No.Absen: 36\n"
          ]
        }
      ]
    },
    {
      "cell_type": "code",
      "source": [
        "print(\"Nama:Tsania P\\nKelas:X.1\\nNo.Absen:29\")"
      ],
      "metadata": {
        "colab": {
          "base_uri": "https://localhost:8080/"
        },
        "id": "Bpx5jlig-zcb",
        "outputId": "7fa24853-3509-4a15-cd97-20824c7886d3"
      },
      "execution_count": null,
      "outputs": [
        {
          "output_type": "stream",
          "name": "stdout",
          "text": [
            "Nama:Tsania P\n",
            "Kelas:X.1\n",
            "No.Absen:29\n"
          ]
        }
      ]
    },
    {
      "cell_type": "code",
      "source": [
        "print(\"\"\"Nama\\t\\t: Tsania P\"\n",
        "Kelas\\t\\t:X.1\n",
        "No. Absen\\t:29\"\"\")"
      ],
      "metadata": {
        "colab": {
          "base_uri": "https://localhost:8080/"
        },
        "id": "FgscYAEM_P3t",
        "outputId": "f9f7b893-07de-4135-a2c9-e8d7dddb5452"
      },
      "execution_count": null,
      "outputs": [
        {
          "output_type": "stream",
          "name": "stdout",
          "text": [
            "Nama\t\t: Tsania P\"\n",
            "Kelas\t\t:X.1\n",
            "No. Absen\t:29\n"
          ]
        }
      ]
    },
    {
      "cell_type": "code",
      "source": [
        "print(\"Halo Nama Saya Habib Jafar\")"
      ],
      "metadata": {
        "colab": {
          "base_uri": "https://localhost:8080/"
        },
        "id": "agggCHh0hfYK",
        "outputId": "02e37b66-2a74-4aa2-9159-1fc4f8cd655f"
      },
      "execution_count": null,
      "outputs": [
        {
          "output_type": "stream",
          "name": "stdout",
          "text": [
            "Halo Nama Saya Habib Jafar\n"
          ]
        }
      ]
    },
    {
      "cell_type": "code",
      "source": [
        "print(\"Halo Nama Saya Habib Ja'far\")"
      ],
      "metadata": {
        "colab": {
          "base_uri": "https://localhost:8080/"
        },
        "id": "IUciib_4iDzC",
        "outputId": "e1162ced-bc79-4052-a7d6-3b23b43c757d"
      },
      "execution_count": null,
      "outputs": [
        {
          "output_type": "stream",
          "name": "stdout",
          "text": [
            "Halo Nama Saya Habib Ja'far\n"
          ]
        }
      ]
    },
    {
      "cell_type": "code",
      "source": [
        "print(\"Bu Shinta berkata, \\\"Tolong fokus ke TV sejenak. \\\"\")"
      ],
      "metadata": {
        "colab": {
          "base_uri": "https://localhost:8080/"
        },
        "id": "2gjzooyEiVwg",
        "outputId": "40276f62-6102-4857-a49a-9f7018377030"
      },
      "execution_count": null,
      "outputs": [
        {
          "output_type": "stream",
          "name": "stdout",
          "text": [
            "Bu Shinta berkata, \"Tolong fokus ke TV sejenak. \"\n"
          ]
        }
      ]
    },
    {
      "cell_type": "code",
      "source": [
        "print('Bu Shinta berkata, \"tolong fokus ke TV sejenak.\"\")')"
      ],
      "metadata": {
        "colab": {
          "base_uri": "https://localhost:8080/"
        },
        "id": "N9LhuRrnip3j",
        "outputId": "7453735d-9bf9-461a-8618-f9c8c1f0afc5"
      },
      "execution_count": null,
      "outputs": [
        {
          "output_type": "stream",
          "name": "stdout",
          "text": [
            "Bu Shinta berkata, \"tolong fokus ke TV sejenak.\"\")\n"
          ]
        }
      ]
    },
    {
      "cell_type": "code",
      "source": [
        "print(\"Silakan simpan file tugas KKA di folder local disk D:\\\\MAN DEMAK\\\\KKA\\\\Tugas\")"
      ],
      "metadata": {
        "colab": {
          "base_uri": "https://localhost:8080/"
        },
        "id": "gwUvY-a1jqSp",
        "outputId": "b6570b11-4cd4-4fe3-a155-3226d1ca9a3a"
      },
      "execution_count": null,
      "outputs": [
        {
          "output_type": "stream",
          "name": "stdout",
          "text": [
            "Silakan simpan file tugas KKA di folder local disk D:\\MAN DEMAK\\KKA\\Tugas\n"
          ]
        }
      ]
    },
    {
      "cell_type": "code",
      "source": [
        "print('Bu Shinta berkata,\"Berikut adalah daftar piket harian kelas X.2 yang disimpan di file D:\\\\MAN DEMAK\\\\KKA\\\\Tugas.\"')\n",
        "print(\"\\n\")\n",
        "print(\"senin\\tselasa\\trabu\")\n",
        "print(\"jielo\\thasbi\\tnaufal\")\n",
        "print(\"azam\\tA'inun\\tnurul\")"
      ],
      "metadata": {
        "colab": {
          "base_uri": "https://localhost:8080/"
        },
        "id": "W__lwekGkcoL",
        "outputId": "0c64799f-3198-4707-b3e3-a5f8b6dcddd7"
      },
      "execution_count": null,
      "outputs": [
        {
          "output_type": "stream",
          "name": "stdout",
          "text": [
            "Bu Shinta berkata,\"Berikut adalah daftar piket harian kelas X.2 yang disimpan di file D:\\MAN DEMAK\\KKA\\Tugas.\"\n",
            "\n",
            "\n",
            "senin\tselasa\trabu\n",
            "jielo\thasbi\tnaufal\n",
            "azam\tA'inun\tnurul\n"
          ]
        }
      ]
    },
    {
      "cell_type": "markdown",
      "source": [
        "Parameter Fungsi print"
      ],
      "metadata": {
        "id": "OnWaHtIkpI2M"
      }
    },
    {
      "cell_type": "code",
      "source": [
        "nama_siswa_1 = \"Diaz\"\n",
        "nama_siswa_2 = \"Disa\"\n",
        "nama_siswa_3 = \"Tyas\"\n",
        "\n",
        "print(nama_siswa_1)\n",
        "print(nama_siswa_2)"
      ],
      "metadata": {
        "colab": {
          "base_uri": "https://localhost:8080/"
        },
        "id": "z4M1cFPflpWk",
        "outputId": "4a6c96a1-9f29-437f-b2ca-25825a82417f"
      },
      "execution_count": null,
      "outputs": [
        {
          "output_type": "stream",
          "name": "stdout",
          "text": [
            "Diaz\n",
            "Disa\n"
          ]
        }
      ]
    },
    {
      "cell_type": "code",
      "source": [
        "nama_siswa_1 = \"Diaz\"\n",
        "nama_siswa_2 = \"Disa\"\n",
        "nama_siswa_3 = \"Tyas\"\n",
        "\n",
        "print(nama_siswa_1,end=\" \")\n",
        "print(nama_siswa_2)"
      ],
      "metadata": {
        "colab": {
          "base_uri": "https://localhost:8080/"
        },
        "id": "9zUPsAkAqfjG",
        "outputId": "49d26e52-4a07-4a6d-e4db-165f89fc4bb7"
      },
      "execution_count": null,
      "outputs": [
        {
          "output_type": "stream",
          "name": "stdout",
          "text": [
            "Diaz Disa\n"
          ]
        }
      ]
    },
    {
      "cell_type": "code",
      "source": [
        "print(nama_siswa_1, nama_siswa_2)"
      ],
      "metadata": {
        "colab": {
          "base_uri": "https://localhost:8080/"
        },
        "id": "HYGIliwCq1qT",
        "outputId": "d8ca903e-cc7b-4a26-c3e1-78b9ee68bab5"
      },
      "execution_count": null,
      "outputs": [
        {
          "output_type": "stream",
          "name": "stdout",
          "text": [
            "Diaz Disa\n"
          ]
        }
      ]
    },
    {
      "cell_type": "code",
      "source": [
        "print(nama_siswa_1, nama_siswa_2,sep=\"-\")"
      ],
      "metadata": {
        "colab": {
          "base_uri": "https://localhost:8080/"
        },
        "id": "xsXy3UViq_xA",
        "outputId": "306d6d24-64dc-4132-a2cf-89e7e5b72245"
      },
      "execution_count": null,
      "outputs": [
        {
          "output_type": "stream",
          "name": "stdout",
          "text": [
            "Diaz-Disa\n"
          ]
        }
      ]
    },
    {
      "cell_type": "code",
      "source": [
        "nama_siswa_3 = \"Kinan\"\n",
        "nama_siswa_4 = \"Azka\"\n",
        "nama_siswa_5 = \"Naufal\"\n",
        "nama_siswa_6 = \"Ridho\"\n",
        "\n",
        "print(nama_siswa_6, nama_siswa_3, nama_siswa_5, nama_siswa_4, nama_siswa_4,sep=\"/\")"
      ],
      "metadata": {
        "colab": {
          "base_uri": "https://localhost:8080/"
        },
        "id": "S8MolaY4rYTZ",
        "outputId": "757daca8-8325-41e2-a6f7-72b6413376ab"
      },
      "execution_count": null,
      "outputs": [
        {
          "output_type": "stream",
          "name": "stdout",
          "text": [
            "Ridho/Kinan/Naufal/Azka/Azka\n"
          ]
        }
      ]
    },
    {
      "cell_type": "code",
      "source": [
        "\n",
        "print(nama_siswa_4, end=\"*\")\n",
        "print(nama_siswa_4, end=\"*\")\n",
        "print(nama_siswa_5, end=\"*\")\n",
        "print(nama_siswa_3, end=\"*\")\n",
        "print(nama_siswa_6, end=\"*\")"
      ],
      "metadata": {
        "colab": {
          "base_uri": "https://localhost:8080/"
        },
        "id": "ftUbNRwzs0_x",
        "outputId": "85164897-91c4-4986-d775-4ce3d3c2b1dc"
      },
      "execution_count": null,
      "outputs": [
        {
          "output_type": "stream",
          "name": "stdout",
          "text": [
            "Azka*Azka*Naufal*Kinan*Ridho*"
          ]
        }
      ]
    }
  ]
}